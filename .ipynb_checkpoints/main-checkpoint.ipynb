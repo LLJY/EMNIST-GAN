{
 "cells": [
  {
   "cell_type": "markdown",
   "metadata": {
    "pycharm": {
     "name": "#%% md\n"
    }
   },
   "source": [
    "# EMNIST-GAN\n",
    "so, I once answered a lecturer (Mr Percy Wong) to train a 5 year old how to recognize digits, I will use a GAN.\n",
    "\n",
    "so let's use a GAN.\n",
    "\n",
    "In this notebook, I will be making use of the EMNIST (Extended Modified NIST) dataset of handwritten digits AND alphabets to train a Generator and Discriminator. The use-case for this would be to solve captchas but primarily to settle that statement that I said about GANs a long time ago."
   ]
  },
  {
   "cell_type": "markdown",
   "metadata": {
    "pycharm": {
     "name": "#%% md\n"
    }
   },
   "source": [
    "# ------ DANGER ZONE ------\n",
    "## DO NOT RUN THE NEXT CELL IF YOU DON'T INTEND TO PIP INSTALL"
   ]
  },
  {
   "cell_type": "code",
   "execution_count": 1,
   "metadata": {
    "pycharm": {
     "name": "#%%\n"
    }
   },
   "outputs": [
    {
     "name": "stdout",
     "output_type": "stream",
     "text": [
      "Defaulting to user installation because normal site-packages is not writeable\n",
      "Requirement already satisfied: extra_keras_datasets in /home/lucas/.local/lib/python3.9/site-packages (1.2.0)\n",
      "Requirement already satisfied: pandas in /home/lucas/.local/lib/python3.9/site-packages (from extra_keras_datasets) (1.2.1)\n",
      "Requirement already satisfied: numpy in /usr/lib/python3.9/site-packages (from extra_keras_datasets) (1.19.5)\n",
      "Requirement already satisfied: scikit-learn in /home/lucas/.local/lib/python3.9/site-packages (from extra_keras_datasets) (0.24.1)\n",
      "Requirement already satisfied: scipy in /home/lucas/.local/lib/python3.9/site-packages (from extra_keras_datasets) (1.6.0)\n",
      "Requirement already satisfied: python-dateutil>=2.7.3 in /usr/lib/python3.9/site-packages (from pandas->extra_keras_datasets) (2.8.1)\n",
      "Requirement already satisfied: pytz>=2017.3 in /home/lucas/.local/lib/python3.9/site-packages (from pandas->extra_keras_datasets) (2020.5)\n",
      "Requirement already satisfied: numpy in /usr/lib/python3.9/site-packages (from extra_keras_datasets) (1.19.5)\n",
      "Requirement already satisfied: six>=1.5 in /usr/lib/python3.9/site-packages (from python-dateutil>=2.7.3->pandas->extra_keras_datasets) (1.15.0)\n",
      "Requirement already satisfied: joblib>=0.11 in /usr/lib/python3.9/site-packages (from scikit-learn->extra_keras_datasets) (1.0.0)\n",
      "Requirement already satisfied: threadpoolctl>=2.0.0 in /home/lucas/.local/lib/python3.9/site-packages (from scikit-learn->extra_keras_datasets) (2.1.0)\n",
      "Requirement already satisfied: scipy in /home/lucas/.local/lib/python3.9/site-packages (from extra_keras_datasets) (1.6.0)\n",
      "Requirement already satisfied: numpy in /usr/lib/python3.9/site-packages (from extra_keras_datasets) (1.19.5)\n",
      "Requirement already satisfied: numpy in /usr/lib/python3.9/site-packages (from extra_keras_datasets) (1.19.5)\n",
      "Defaulting to user installation because normal site-packages is not writeable\n",
      "\u001b[31mERROR: Could not find a version that satisfies the requirement tensorflow\u001b[0m\n",
      "\u001b[31mERROR: No matching distribution found for tensorflow\u001b[0m\n"
     ]
    }
   ],
   "source": [
    "!pip3 install extra_keras_datasets\n",
    "!pip3 install tensorflow"
   ]
  },
  {
   "cell_type": "code",
   "execution_count": 2,
   "metadata": {},
   "outputs": [],
   "source": [
    "import pandas as pd\n",
    "import os\n",
    "from extra_keras_datasets import emnist\n",
    "from collections import Counter\n",
    "import tensorflow as tf\n",
    "from tensorflow.keras.models import Sequential\n",
    "from tensorflow.keras.layers import Dense, Input, Dropout, LeakyReLU, Conv2D, Flatten, BatchNormalization, MaxPooling2D, Activation\n",
    "from tensorflow.keras.initializers import glorot_normal, RandomNormal, Zeros\n",
    "from tensorflow.keras.utils import to_categorical\n",
    "from sklearn.preprocessing import StandardScaler, LabelEncoder\n",
    "from sklearn.model_selection import train_test_split\n",
    "from sklearn.compose import ColumnTransformer\n",
    "from sklearn.metrics import classification_report\n",
    "from tensorflow import keras\n",
    "import numpy as np\n",
    "import random\n",
    "\n",
    "from matplotlib import pyplot as plt\n",
    "\n",
    "from collections import Counter"
   ]
  },
  {
   "cell_type": "markdown",
   "metadata": {
    "pycharm": {
     "name": "#%% md\n"
    }
   },
   "source": [
    "Download the dataset byclass for EMNIST, change the dataset and labels here if you wish (there is EMNIST for japanese characters too!)"
   ]
  },
  {
   "cell_type": "code",
   "execution_count": 3,
   "metadata": {
    "pycharm": {
     "name": "#%%\n"
    }
   },
   "outputs": [
    {
     "name": "stderr",
     "output_type": "stream",
     "text": [
      "INFO:root:Loading dataset = emnist\n",
      "WARNING:root:Please cite the following paper when using or referencing this Extra Keras Dataset:\n",
      "WARNING:root:Cohen, G., Afshar, S., Tapson, J., & van Schaik, A. (2017). EMNIST: an extension of MNIST to handwritten letters. Retrieved from http://arxiv.org/abs/1702.05373\n"
     ]
    }
   ],
   "source": [
    "(x_train, y_train), (x_test, y_test) = emnist.load_data(type='byclass')"
   ]
  },
  {
   "cell_type": "markdown",
   "metadata": {
    "pycharm": {
     "name": "#%% md\n"
    }
   },
   "source": [
    "## Dataset classes\n",
    "These are the labels of our dataset, we'll use this to convert it from the result to the actual human-readable class"
   ]
  },
  {
   "cell_type": "code",
   "execution_count": 4,
   "metadata": {
    "pycharm": {
     "name": "#%%\n"
    }
   },
   "outputs": [],
   "source": [
    "class_idx = ['0','1','2','3','4','5','6','7','8','9',\n",
    "             'A','B','C','D','E','F','G','H','I','J','K','L','M','N','O','P','Q','R','S','T','U','V','W','X','Y','Z',\n",
    "             'a','b','c','d','e','f','g','h','i','j','k','l','m','n','o','p','q','r','s','t','u','v','w','x','y','z']"
   ]
  },
  {
   "cell_type": "markdown",
   "metadata": {
    "pycharm": {
     "name": "#%% md\n"
    }
   },
   "source": [
    "## Load samples\n",
    "Let's take some samples from our dataset and take a look at them."
   ]
  },
  {
   "cell_type": "code",
   "execution_count": 5,
   "metadata": {
    "pycharm": {
     "name": "#%%\n"
    }
   },
   "outputs": [
    {
     "data": {
      "image/png": "[encoded data removed]",
      "text/plain": [
       "<Figure size 432x288 with 25 Axes>"
      ]
     },
     "metadata": {
      "needs_background": "light"
     },
     "output_type": "display_data"
    }
   ],
   "source": [
    "for i in range(25):\n",
    "    # pick random image index from dataset to show\n",
    "    index = random.randint(0, len(x_train))\n",
    "    # define subplot\n",
    "    plt.subplot(5, 5, 1 + i)\n",
    "    plt.tight_layout()\n",
    "    # turn off axis\n",
    "    plt.axis('off')\n",
    "    # change to grayscale as our images are in grayscale\n",
    "    plt.imshow(x_train[index], cmap='gray')\n",
    "    # show image title according to the real dataset classes\n",
    "    plt.title(class_idx[y_train[index]])"
   ]
  },
  {
   "cell_type": "markdown",
   "metadata": {
    "pycharm": {
     "name": "#%% md\n"
    }
   },
   "source": [
    "## Reshape the data for training\n",
    "Reshape x to 28,28,1 to include the colour channel and perform one hot encoding on y"
   ]
  },
  {
   "cell_type": "code",
   "execution_count": null,
   "metadata": {
    "pycharm": {
     "name": "#%%\n"
    }
   },
   "outputs": [],
   "source": [
    "# add an additional column for channels (our images are grayscale, so 1) and convert to float32\n",
    "x_train = np.expand_dims(x_train, axis=-1).astype(\"float32\")\n",
    "x_test = np.expand_dims(x_test, axis=-1).astype(\"float32\")\n",
    "y_train = keras.utils.to_categorical(y_train)\n",
    "y_test = keras.utils.to_categorical(y_test)\n",
    "print('Train', x_train.shape, y_train.shape)\n",
    "print('Test', x_test.shape, y_test.shape)"
   ]
  },
  {
   "cell_type": "markdown",
   "metadata": {
    "pycharm": {
     "name": "#%% md\n"
    }
   },
   "source": [
    "## Create the discriminator network\n",
    "I will be using SimpleNet for its simplicity and high accuracy.\n",
    "GANs take forever to train, every bit of performance is welcome. SimpleNet is also impressively accurate\n",
    "\n",
    "model I built below is based off the pytorch model with LeakyReLU\n",
    "\n",
    "SimpleNet paper : https://arxiv.org/abs/1608.06037"
   ]
  },
  {
   "cell_type": "code",
   "execution_count": null,
   "metadata": {
    "pycharm": {
     "name": "#%%\n"
    }
   },
   "outputs": [],
   "source": [
    "discriminator_model = Sequential(name=\"SimpleNetV1\")\n",
    "discriminator_model.add(Input(shape=(28,28,1)))\n",
    "# Block 1\n",
    "discriminator_model.add(Conv2D(64, (3,3), padding='same', kernel_initializer=glorot_normal()))\n",
    "discriminator_model.add(BatchNormalization())\n",
    "discriminator_model.add(LeakyReLU())\n",
    "\n",
    "# Block 2,3,4 (repeated)\n",
    "for i in range(3):\n",
    "    discriminator_model.add(Conv2D(128, (3,3), padding=\"same\", kernel_initializer=RandomNormal(stddev=0.01)))\n",
    "    discriminator_model.add(BatchNormalization())\n",
    "    discriminator_model.add(LeakyReLU())\n",
    "\n",
    "# max pooling (change strides as you wish)\n",
    "discriminator_model.add(MaxPooling2D(pool_size=(2,2), strides=2))\n",
    "discriminator_model.add(Dropout(0.2))\n",
    "\n",
    "# Block 5,6\n",
    "for i in range (2):\n",
    "    discriminator_model.add(Conv2D(128, (3,3), padding=\"same\", kernel_initializer=RandomNormal(stddev=0.01)))\n",
    "    discriminator_model.add(BatchNormalization())\n",
    "    discriminator_model.add(LeakyReLU())\n",
    "\n",
    "# Block 7\n",
    "discriminator_model.add(Conv2D(256, (3,3), padding=\"same\", kernel_initializer=glorot_normal()))\n",
    "discriminator_model.add(BatchNormalization())\n",
    "discriminator_model.add(LeakyReLU())\n",
    "# Another max pooling\n",
    "discriminator_model.add(MaxPooling2D(pool_size=(2,2), strides=2))\n",
    "discriminator_model.add(Dropout(0.2))\n",
    "\n",
    "\n",
    "# Block 8,9\n",
    "for i in range(2):\n",
    "    discriminator_model.add(Conv2D(256, (3,3), padding=\"same\", kernel_initializer=glorot_normal()))\n",
    "    discriminator_model.add(BatchNormalization())\n",
    "    discriminator_model.add(LeakyReLU())\n",
    "\n",
    "# Block 10\n",
    "discriminator_model.add(Conv2D(512, (3,3), padding=\"same\", kernel_initializer=glorot_normal()))\n",
    "discriminator_model.add(BatchNormalization())\n",
    "discriminator_model.add(LeakyReLU())\n",
    "\n",
    "# Block 11\n",
    "discriminator_model.add(Conv2D(2048, (1,1), padding=\"same\", kernel_initializer=glorot_normal()))\n",
    "discriminator_model.add(BatchNormalization())\n",
    "discriminator_model.add(LeakyReLU())\n",
    "\n",
    "# Block 12\n",
    "discriminator_model.add(Conv2D(256, (1,1), padding=\"same\", kernel_initializer=glorot_normal()))\n",
    "discriminator_model.add(BatchNormalization())\n",
    "discriminator_model.add(LeakyReLU())\n",
    "# Another another another max pooling\n",
    "discriminator_model.add(MaxPooling2D(pool_size=(2,2), strides=2))\n",
    "discriminator_model.add(Dropout(0.2))\n",
    "\n",
    "# Block 13\n",
    "discriminator_model.add(Conv2D(256, (3,3), padding=\"same\", kernel_initializer=glorot_normal()))\n",
    "discriminator_model.add(BatchNormalization())\n",
    "discriminator_model.add(LeakyReLU())\n",
    "# Another another another max pooling\n",
    "discriminator_model.add(MaxPooling2D(pool_size=(2,2), strides=2))\n",
    "discriminator_model.add(Dropout(0.2))\n",
    "\n",
    "# Classifier\n",
    "discriminator_model.add(Flatten())\n",
    "# softmax performs better with multiple classes\n",
    "# final output dense layer\n",
    "discriminator_model.add(Dense(len(class_idx), activation=\"softmax\"))\n",
    "# standard stuff\n",
    "discriminator_model.compile(loss=\"categorical_crossentropy\", optimizer=\"adam\", metrics=[\"accuracy\"])\n",
    "# summarize for jupyter\n",
    "discriminator_model.summary()"
   ]
  },
  {
   "cell_type": "markdown",
   "metadata": {
    "pycharm": {
     "name": "#%% md\n"
    }
   },
   "source": [
    "## Define functions to generate real and fake samples\n",
    "generate_real_samples will take random samples from the training set with its label.\n",
    "generate_fake_samples will"
   ]
  },
  {
   "cell_type": "code",
   "execution_count": null,
   "metadata": {
    "pycharm": {
     "is_executing": true,
     "name": "#%%\n"
    }
   },
   "outputs": [],
   "source": [
    "print(\"Num GPUs Available: \", len(tf.config.experimental.list_physical_devices('GPU')))\n",
    "history = discriminator_model.fit(x_train, y_train, epochs=25, batch_size=128)\n",
    "plt.plot(history.history['loss'], label='MAE (training data)')\n",
    "plt.plot(history.history['val_loss'], label='MAE (validation data)')\n",
    "plt.ylabel('MAE value')\n",
    "plt.xlabel('No. epoch')\n",
    "plt.legend(loc=\"upper left\")\n",
    "plt.show()"
   ]
  },
  {
   "cell_type": "code",
   "execution_count": null,
   "metadata": {
    "pycharm": {
     "is_executing": true,
     "name": "#%%\n"
    }
   },
   "outputs": [],
   "source": [
    "score = model.evaluate(x_test, y_test, verbose=0)\n",
    "print(\"Test loss:\", score[0])\n",
    "print(\"Test accuracy:\", score[1])"
   ]
  }
 ],
 "metadata": {
  "kernelspec": {
   "display_name": "PyCharm (heart-disease)",
   "language": "python",
   "name": "pycharm-c3cbfdc6"
  },
  "language_info": {
   "codemirror_mode": {
    "name": "ipython",
    "version": 3
   },
   "file_extension": ".py",
   "mimetype": "text/x-python",
   "name": "python",
   "nbconvert_exporter": "python",
   "pygments_lexer": "ipython3",
   "version": "3.8.3"
  }
 },
 "nbformat": 4,
 "nbformat_minor": 1
}
